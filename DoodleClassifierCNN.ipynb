{
  "nbformat": 4,
  "nbformat_minor": 0,
  "metadata": {
    "accelerator": "GPU",
    "colab": {
      "name": "DoodleClassifierCNN.ipynb",
      "provenance": [],
      "collapsed_sections": []
    },
    "kernelspec": {
      "display_name": "Python 3",
      "name": "python3"
    },
    "language_info": {
      "name": "python"
    }
  },
  "cells": [
    {
      "cell_type": "code",
      "metadata": {
        "id": "ev64V3F36Bvm"
      },
      "source": [
        "import os\n",
        "import torch\n",
        "import torch.nn as nn\n",
        "import torchvision\n",
        "from torchvision import datasets, transforms\n",
        "from torch.utils.data import Dataset\n",
        "from torch.utils.data import DataLoader\n",
        "import matplotlib.pyplot as plt\n",
        "import numpy as np\n",
        "import torch.nn.functional as F\n",
        "from sklearn.model_selection import train_test_split\n",
        "import random as rd\n",
        "from tqdm import tqdm"
      ],
      "execution_count": 31,
      "outputs": []
    },
    {
      "cell_type": "code",
      "metadata": {
        "colab": {
          "base_uri": "https://localhost:8080/"
        },
        "id": "qM4U4CzQbNJ0",
        "outputId": "3e3fe3ee-87b7-4893-e355-99de3a1f4ddd"
      },
      "source": [
        "#upload the doodle dataset zip file on your drive to use\n",
        "from google.colab import drive\n",
        "drive.mount('/content/drive')"
      ],
      "execution_count": 2,
      "outputs": [
        {
          "output_type": "stream",
          "name": "stdout",
          "text": [
            "Mounted at /content/drive\n"
          ]
        }
      ]
    },
    {
      "cell_type": "code",
      "metadata": {
        "id": "ZDt9bBgw6F7d"
      },
      "source": [
        "device = torch.device('cuda' if torch.cuda.is_available() else 'cpu')"
      ],
      "execution_count": 3,
      "outputs": []
    },
    {
      "cell_type": "code",
      "metadata": {
        "id": "BjlCnu6bAOSz"
      },
      "source": [
        "torch.cuda.empty_cache()"
      ],
      "execution_count": 4,
      "outputs": []
    },
    {
      "cell_type": "code",
      "metadata": {
        "id": "0zYu9NT26x5F",
        "colab": {
          "base_uri": "https://localhost:8080/"
        },
        "outputId": "aaf5b4f3-b631-4791-b781-3fa4faea5426"
      },
      "source": [
        "!unrar e '/content/drive/MyDrive/doodle/Doodle dataset.rar' #unrar the doodle dataset from your drive"
      ],
      "execution_count": 5,
      "outputs": [
        {
          "output_type": "stream",
          "name": "stdout",
          "text": [
            "\n",
            "UNRAR 5.50 freeware      Copyright (c) 1993-2017 Alexander Roshal\n",
            "\n",
            "\n",
            "Extracting from /content/drive/MyDrive/doodle/Doodle dataset.rar\n",
            "\n",
            "Extracting  full_numpy_bitmap_airplane.npy                               \b\b\b\b  0%\b\b\b\b  1%\b\b\b\b  2%\b\b\b\b  3%\b\b\b\b  4%\b\b\b\b  5%\b\b\b\b\b  OK \n",
            "Extracting  full_numpy_bitmap_ant.npy                                    \b\b\b\b  5%\b\b\b\b  6%\b\b\b\b  7%\b\b\b\b  8%\b\b\b\b  9%\b\b\b\b\b  OK \n",
            "Extracting  full_numpy_bitmap_banana.npy                                 \b\b\b\b  9%\b\b\b\b 10%\b\b\b\b 11%\b\b\b\b 12%\b\b\b\b 13%\b\b\b\b 14%\b\b\b\b 15%\b\b\b\b 16%\b\b\b\b 17%\b\b\b\b 18%\b\b\b\b 19%\b\b\b\b\b  OK \n",
            "Extracting  full_numpy_bitmap_baseball.npy                               \b\b\b\b 19%\b\b\b\b 20%\b\b\b\b 21%\b\b\b\b 22%\b\b\b\b 23%\b\b\b\b 24%\b\b\b\b 25%\b\b\b\b\b  OK \n",
            "Extracting  full_numpy_bitmap_bird.npy                                   \b\b\b\b 25%\b\b\b\b 26%\b\b\b\b 27%\b\b\b\b 28%\b\b\b\b 29%\b\b\b\b 30%\b\b\b\b\b  OK \n",
            "Extracting  full_numpy_bitmap_bucket.npy                                 \b\b\b\b 30%\b\b\b\b 31%\b\b\b\b 32%\b\b\b\b 33%\b\b\b\b 34%\b\b\b\b\b  OK \n",
            "Extracting  full_numpy_bitmap_butterfly.npy                              \b\b\b\b 34%\b\b\b\b 35%\b\b\b\b 36%\b\b\b\b 37%\b\b\b\b 38%\b\b\b\b 39%\b\b\b\b 40%\b\b\b\b\b  OK \n",
            "Extracting  full_numpy_bitmap_cat.npy                                    \b\b\b\b 40%\b\b\b\b 41%\b\b\b\b 42%\b\b\b\b 43%\b\b\b\b 44%\b\b\b\b 45%\b\b\b\b\b  OK \n",
            "Extracting  full_numpy_bitmap_coffee cup.npy                             \b\b\b\b 45%\b\b\b\b 46%\b\b\b\b 47%\b\b\b\b 48%\b\b\b\b 49%\b\b\b\b 50%\b\b\b\b 51%\b\b\b\b 52%\b\b\b\b 53%\b\b\b\b\b  OK \n",
            "Extracting  full_numpy_bitmap_dolphin.npy                                \b\b\b\b 53%\b\b\b\b 54%\b\b\b\b 55%\b\b\b\b 56%\b\b\b\b\b  OK \n",
            "Extracting  full_numpy_bitmap_donut.npy                                  \b\b\b\b 56%\b\b\b\b 57%\b\b\b\b 58%\b\b\b\b 59%\b\b\b\b 60%\b\b\b\b 61%\b\b\b\b 62%\b\b\b\b 63%\b\b\b\b\b  OK \n",
            "Extracting  full_numpy_bitmap_duck.npy                                   \b\b\b\b 63%\b\b\b\b 64%\b\b\b\b 65%\b\b\b\b 66%\b\b\b\b 67%\b\b\b\b 68%\b\b\b\b\b  OK \n",
            "Extracting  full_numpy_bitmap_fish.npy                                   \b\b\b\b 68%\b\b\b\b 69%\b\b\b\b 70%\b\b\b\b 71%\b\b\b\b 72%\b\b\b\b\b  OK \n",
            "Extracting  full_numpy_bitmap_leaf.npy                                   \b\b\b\b 72%\b\b\b\b 73%\b\b\b\b 74%\b\b\b\b 75%\b\b\b\b 76%\b\b\b\b 77%\b\b\b\b\b  OK \n",
            "Extracting  full_numpy_bitmap_mountain.npy                               \b\b\b\b 77%\b\b\b\b 78%\b\b\b\b 79%\b\b\b\b 80%\b\b\b\b\b  OK \n",
            "Extracting  full_numpy_bitmap_pencil.npy                                 \b\b\b\b 80%\b\b\b\b 81%\b\b\b\b 82%\b\b\b\b 83%\b\b\b\b\b  OK \n",
            "Extracting  full_numpy_bitmap_smiley face.npy                            \b\b\b\b 83%\b\b\b\b 84%\b\b\b\b 85%\b\b\b\b 86%\b\b\b\b 87%\b\b\b\b 88%\b\b\b\b 89%\b\b\b\b\b  OK \n",
            "Extracting  full_numpy_bitmap_snake.npy                                  \b\b\b\b 89%\b\b\b\b 90%\b\b\b\b 91%\b\b\b\b 92%\b\b\b\b\b  OK \n",
            "Extracting  full_numpy_bitmap_umbrella.npy                               \b\b\b\b 92%\b\b\b\b 93%\b\b\b\b 94%\b\b\b\b 95%\b\b\b\b 96%\b\b\b\b\b  OK \n",
            "Extracting  full_numpy_bitmap_wine bottle.npy                            \b\b\b\b 96%\b\b\b\b 97%\b\b\b\b 98%\b\b\b\b 99%\b\b\b\b\b  OK \n",
            "All OK\n"
          ]
        }
      ]
    },
    {
      "cell_type": "code",
      "metadata": {
        "colab": {
          "base_uri": "https://localhost:8080/"
        },
        "id": "zGZbce-N8z7U",
        "outputId": "1f92565c-6f4f-4e7a-ddf4-3438b0b37ea6"
      },
      "source": [
        "classes = [\"airplane\", \"ant\", \"banana\", \"baseball\", \"bird\", \"bucket\", \"butterfly\", \"cat\", \"coffee cup\",\n",
        "           \"dolphin\", \"donut\", \"duck\", \"fish\", \"leaf\", \"mountain\", \"pencil\", \"smiley face\", \"snake\", \"umbrella\", \"wine bottle\"]\n",
        "print(len(classes))"
      ],
      "execution_count": 6,
      "outputs": [
        {
          "output_type": "stream",
          "name": "stdout",
          "text": [
            "20\n"
          ]
        }
      ]
    },
    {
      "cell_type": "code",
      "metadata": {
        "id": "ov9F2JME1M2Q",
        "colab": {
          "base_uri": "https://localhost:8080/"
        },
        "outputId": "5177d1cf-e2f1-44ee-aa69-079797accd0b"
      },
      "source": [
        "Ap = torch.from_numpy(np.load(\"/content/full_numpy_bitmap_airplane.npy\"))\n",
        "print(Ap.shape)\n",
        "l1=np.full((151623,1),0)\n",
        "ant = torch.from_numpy(np.load(\"/content/full_numpy_bitmap_ant.npy\"))\n",
        "l2=np.full((124612,1),1)\n",
        "print(ant.shape)\n",
        "bn = torch.from_numpy(np.load(\"/content/full_numpy_bitmap_banana.npy\"))\n",
        "print(bn.shape)\n",
        "l3=np.full((307936,1),2)\n",
        "bb = torch.from_numpy(np.load(\"/content/full_numpy_bitmap_baseball.npy\"))\n",
        "print(bb.shape)\n",
        "l4=np.full((135375,1),3)\n",
        "bird = torch.from_numpy(np.load(\"/content/full_numpy_bitmap_bird.npy\"))\n",
        "print(bird.shape)\n",
        "l5=np.full((133572,1),4)\n",
        "bk = torch.from_numpy(np.load(\"/content/full_numpy_bitmap_bucket.npy\"))\n",
        "print(bk.shape)\n",
        "l6=np.full((124064,1),5)\n",
        "bfly = torch.from_numpy(np.load(\"/content/full_numpy_bitmap_butterfly.npy\"))\n",
        "print(bfly.shape)\n",
        "l7=np.full((117999,1),6)\n",
        "cat = torch.from_numpy(np.load(\"/content/full_numpy_bitmap_cat.npy\"))\n",
        "print(cat.shape)\n",
        "l8=np.full((123202,1),7)\n",
        "cc = torch.from_numpy(np.load(\"/content/full_numpy_bitmap_coffee cup.npy\"))\n",
        "print(cc.shape)\n",
        "l9=np.full((183432,1),8)\n",
        "dolp = torch.from_numpy(np.load(\"/content/full_numpy_bitmap_dolphin.npy\"))\n",
        "print(dolp.shape)\n",
        "l10=np.full((121613,1),9)\n",
        "dn = torch.from_numpy(np.load(\"/content/full_numpy_bitmap_donut.npy\"))\n",
        "print(dn.shape)\n",
        "l11=np.full((140751,1),10)\n",
        "dk = torch.from_numpy(np.load(\"/content/full_numpy_bitmap_duck.npy\"))\n",
        "print(dk.shape)\n",
        "l12=np.full((135480,1),11)\n",
        "fish = torch.from_numpy(np.load(\"/content/full_numpy_bitmap_fish.npy\"))\n",
        "print(fish.shape)\n",
        "l13=np.full((134150,1),12)\n",
        "lf = torch.from_numpy(np.load(\"/content/full_numpy_bitmap_leaf.npy\"))\n",
        "print(lf.shape)\n",
        "l14=np.full((125571,1),13)\n",
        "mt = torch.from_numpy(np.load(\"/content/full_numpy_bitmap_mountain.npy\"))\n",
        "print(mt.shape)\n",
        "l15=np.full((128540,1),14)\n",
        "pn = torch.from_numpy(np.load(\"/content/full_numpy_bitmap_pencil.npy\"))\n",
        "print(pn.shape)\n",
        "l16=np.full((122001,1),15)\n",
        "sf = torch.from_numpy(np.load(\"/content/full_numpy_bitmap_smiley face.npy\"))\n",
        "print(sf.shape)\n",
        "l17=np.full((124386,1),16)\n",
        "snk = torch.from_numpy(np.load(\"/content/full_numpy_bitmap_snake.npy\"))\n",
        "print(snk.shape)\n",
        "l18=np.full((122273,1),17)\n",
        "umb = torch.from_numpy(np.load(\"/content/full_numpy_bitmap_umbrella.npy\"))\n",
        "print(umb.shape)\n",
        "l19=np.full((124084,1),18)\n",
        "wb = torch.from_numpy(np.load(\"/content/full_numpy_bitmap_wine bottle.npy\"))\n",
        "print(wb.shape)\n",
        "l20=np.full((126373,1),19)"
      ],
      "execution_count": 7,
      "outputs": [
        {
          "output_type": "stream",
          "name": "stdout",
          "text": [
            "torch.Size([151623, 784])\n",
            "torch.Size([124612, 784])\n",
            "torch.Size([307936, 784])\n",
            "torch.Size([135375, 784])\n",
            "torch.Size([133572, 784])\n",
            "torch.Size([124064, 784])\n",
            "torch.Size([117999, 784])\n",
            "torch.Size([123202, 784])\n",
            "torch.Size([183432, 784])\n",
            "torch.Size([121613, 784])\n",
            "torch.Size([140751, 784])\n",
            "torch.Size([135480, 784])\n",
            "torch.Size([134150, 784])\n",
            "torch.Size([125571, 784])\n",
            "torch.Size([128540, 784])\n",
            "torch.Size([122001, 784])\n",
            "torch.Size([124386, 784])\n",
            "torch.Size([122273, 784])\n",
            "torch.Size([124084, 784])\n",
            "torch.Size([126373, 784])\n"
          ]
        }
      ]
    },
    {
      "cell_type": "code",
      "metadata": {
        "colab": {
          "base_uri": "https://localhost:8080/"
        },
        "id": "19x2S5Fd6A8k",
        "outputId": "8b2db870-0cd8-466e-d56d-488146ae957c"
      },
      "source": [
        "dataset = torch.cat((Ap,ant,bn,bb,bird,bk,bfly,cat,cc,dolp,dn,dk,fish,lf,mt,pn,sf,snk,umb,wb),0)\n",
        "print(dataset.size())"
      ],
      "execution_count": 8,
      "outputs": [
        {
          "output_type": "stream",
          "name": "stdout",
          "text": [
            "torch.Size([2807037, 784])\n"
          ]
        }
      ]
    },
    {
      "cell_type": "code",
      "metadata": {
        "id": "S3dyN6hpR3gD",
        "colab": {
          "base_uri": "https://localhost:8080/"
        },
        "outputId": "2155839f-3d62-499c-d042-12fbcc94af37"
      },
      "source": [
        "labels_set = np.concatenate((l1,l2,l3,l4,l5,l6,l7,l8,l9,l10,l11,l12,l13,l14,l15,l16,l17,l18,l19,l20))\n",
        "# print(np.sum(labels_set))\n",
        "labels_set = torch.from_numpy(labels_set)\n",
        "print(labels_set.size())"
      ],
      "execution_count": 9,
      "outputs": [
        {
          "output_type": "stream",
          "name": "stdout",
          "text": [
            "torch.Size([2807037, 1])\n"
          ]
        }
      ]
    },
    {
      "cell_type": "code",
      "metadata": {
        "colab": {
          "base_uri": "https://localhost:8080/"
        },
        "id": "7JBS3WXlEtLo",
        "outputId": "767ceddb-726b-4250-fe4a-43d296c82a81"
      },
      "source": [
        "train_set, test_set, lbl_train,lbl_test = train_test_split(dataset,labels_set, test_size=0.33, random_state=1)\n",
        "print(train_set.shape)\n",
        "print(test_set.shape)\n",
        "print(lbl_train.shape)\n",
        "print(lbl_test.shape)"
      ],
      "execution_count": 10,
      "outputs": [
        {
          "output_type": "stream",
          "name": "stdout",
          "text": [
            "torch.Size([1880714, 784])\n",
            "torch.Size([926323, 784])\n",
            "torch.Size([1880714, 1])\n",
            "torch.Size([926323, 1])\n"
          ]
        }
      ]
    },
    {
      "cell_type": "code",
      "metadata": {
        "colab": {
          "base_uri": "https://localhost:8080/",
          "height": 283
        },
        "id": "g9_UvmygWVVL",
        "outputId": "cba3abfe-8372-4306-f5c9-fc1d98d88781"
      },
      "source": [
        "n = rd.randrange(0,1880713)\n",
        "image,label = train_set[n], lbl_train[n]\n",
        "# print(image.shape)\n",
        "plt.imshow(image.reshape(28,28) , cmap='gray', interpolation = \"nearest\")\n",
        "print(\"Looks like: \"+classes[label])"
      ],
      "execution_count": 11,
      "outputs": [
        {
          "output_type": "stream",
          "name": "stdout",
          "text": [
            "Looks like: umbrella\n"
          ]
        },
        {
          "output_type": "display_data",
          "data": {
            "image/png": "[encoded data removed]",
            "text/plain": [
              "<Figure size 432x288 with 1 Axes>"
            ]
          },
          "metadata": {
            "needs_background": "light"
          }
        }
      ]
    },
    {
      "cell_type": "code",
      "metadata": {
        "id": "zT0ewQ4AwXxA"
      },
      "source": [
        "class Data_Set(Dataset):\n",
        "    def __init__(self,t_set,lbl_set):\n",
        "        self.x = t_set.reshape(t_set.shape[0],1,28,28)\n",
        "        self.y = lbl_set\n",
        "        self.l = t_set.shape[0]\n",
        "    def __getitem__(self,i):\n",
        "        return self.x[i],self.y[i]\n",
        "    def __len__(self):\n",
        "        return self.l"
      ],
      "execution_count": 12,
      "outputs": []
    },
    {
      "cell_type": "code",
      "metadata": {
        "id": "2UgBroCgzCSo"
      },
      "source": [
        "data_train = Data_Set(train_set,lbl_train)\n",
        "dataloader_train = DataLoader(data_train, batch_size=512, shuffle=False, num_workers=2)\n",
        "data_test = Data_Set(test_set,lbl_test)\n",
        "dataloader_test = DataLoader(data_test, batch_size=512, shuffle=False, num_workers=2)"
      ],
      "execution_count": 13,
      "outputs": []
    },
    {
      "cell_type": "code",
      "metadata": {
        "id": "INajWmImVifh"
      },
      "source": [
        "class ConvNetwork(nn.Module):\n",
        "    def __init__(self):\n",
        "        super(ConvNetwork, self).__init__()\n",
        "        \n",
        "        self.conv1 = nn.Conv2d(1, 8, 5)\n",
        "        self.pool = nn.MaxPool2d(2,2)\n",
        "        self.conv2 = nn.Conv2d(8, 20, 5)\n",
        "\n",
        "        self.fc1 = nn.Linear(20 * 4 * 4, 200)\n",
        "        self.fc2 = nn.Linear(200, 120)\n",
        "        self.fc3 = nn.Linear(120, 84)\n",
        "        self.fc4 = nn.Linear(84, 20)\n",
        "\n",
        "    def forward(self, x):\n",
        "        x = self.pool(F.relu(self.conv1(x)))\n",
        "        x = self.pool(F.relu(self.conv2(x)))\n",
        "        x = torch.flatten(x, 1)\n",
        "\n",
        "        x = F.relu(self.fc1(x))\n",
        "        x = F.relu(self.fc2(x))\n",
        "        x = F.relu(self.fc3(x))\n",
        "        x = self.fc4(x)\n",
        "        return x"
      ],
      "execution_count": 14,
      "outputs": []
    },
    {
      "cell_type": "code",
      "metadata": {
        "id": "6u0ZisF-0HTD"
      },
      "source": [
        "def prediction(out,y):\n",
        "    _, predict = torch.max(out,1)\n",
        "    return (predict==y).sum().item()"
      ],
      "execution_count": 15,
      "outputs": []
    },
    {
      "cell_type": "code",
      "metadata": {
        "id": "31o2souJzbiQ"
      },
      "source": [
        "def training(train_loader,model, loss,opt, print_cost):\n",
        "\n",
        "    train_correct=0\n",
        "    train_size = len(train_loader.dataset)\n",
        "    n_samples = 0\n",
        "    running_loss=0.0\n",
        "    for i, (imgs,labels) in enumerate(tqdm(train_loader)):\n",
        "\n",
        "        batch_size = train_loader.batch_size\n",
        "        imgs = imgs.to(device)\n",
        "        labels = labels.to(device)\n",
        "        labels = labels.squeeze(1) \n",
        "\n",
        "        #forward pass\n",
        "        out = model(imgs.float())\n",
        "        cost = loss(out,labels)\n",
        "        running_loss+= cost.item()\n",
        "        #backward pass\n",
        "        opt.zero_grad()\n",
        "        cost.backward()\n",
        "        opt.step()\n",
        "\n",
        "        # prediction\n",
        "        n_samples += labels.shape[0]\n",
        "        train_correct += prediction(out,labels)\n",
        "        \n",
        "        if (i+1)%100==0 and print_cost:\n",
        "            print(f\"Cost  [{i+1}/{len(train_loader)}] : {cost.item()}\")\n",
        "\n",
        "    acc= 100*train_correct/n_samples\n",
        "    print(\"Train Accuracy: \",acc,\" %\")\n",
        "    return running_loss/len(train_loader)"
      ],
      "execution_count": 32,
      "outputs": []
    },
    {
      "cell_type": "code",
      "metadata": {
        "id": "c_s-FuLs0SQp"
      },
      "source": [
        "def testing(test_loader,model,loss,opt):\n",
        "\n",
        "    test_loss, test_correct = 0, 0\n",
        "    num_batches = len(test_loader)\n",
        "    batch_size = test_loader.batch_size\n",
        "\n",
        "    n_samples = 0\n",
        "    i=0\n",
        "    with torch.no_grad():\n",
        "        for imgs, labels in tqdm(test_loader):\n",
        "\n",
        "            imgs = imgs.to(device)\n",
        "            labels = labels.to(device)\n",
        "            labels = labels.squeeze(1)\n",
        "\n",
        "            # forward pass\n",
        "            out = model(imgs.float())\n",
        "\n",
        "            n_samples += labels.shape[0]\n",
        "            test_loss += loss(out, labels).item()\n",
        "            # prediction\n",
        "            test_correct += prediction(out,labels)\n",
        "\n",
        "            i+=1\n",
        "\n",
        "    test_loss /= num_batches\n",
        "    acc = 100*test_correct/n_samples\n",
        "    print(\"Test Accuracy: \",acc,\" %\")\n",
        "    return test_loss"
      ],
      "execution_count": 33,
      "outputs": []
    },
    {
      "cell_type": "code",
      "metadata": {
        "id": "HLacOvZU0mxh"
      },
      "source": [
        "cnn_model = ConvNetwork().to(device)\n",
        "params = cnn_model.parameters()\n",
        "alpha = 0.001\n",
        "train_loss = []\n",
        "test_loss=[]"
      ],
      "execution_count": 34,
      "outputs": []
    },
    {
      "cell_type": "code",
      "metadata": {
        "id": "lYBSPJNxErbZ"
      },
      "source": [
        "loss = nn.CrossEntropyLoss()\n",
        "opt = torch.optim.Adam(params, lr=alpha, betas=(0.9, 0.999), eps=1e-08)"
      ],
      "execution_count": 35,
      "outputs": []
    },
    {
      "cell_type": "code",
      "metadata": {
        "id": "Nj1fd3cH0uVA",
        "colab": {
          "base_uri": "https://localhost:8080/"
        },
        "outputId": "6f0b9349-60f3-46d7-b06b-d8d4f847d6cd"
      },
      "source": [
        "num_epochs=25\n",
        "for epoch in range(num_epochs):\n",
        "    print(f\"Epoch {epoch+1}\")\n",
        "    train_epoch_loss = training(dataloader_train, cnn_model, loss, opt, print_cost=False)\n",
        "    train_loss.append(train_epoch_loss)\n",
        "    test_epoch_loss = testing(dataloader_test, cnn_model, loss, opt)  \n",
        "    test_loss.append(test_epoch_loss)      \n",
        "    print(\"---\")\n"
      ],
      "execution_count": 36,
      "outputs": [
        {
          "output_type": "stream",
          "name": "stdout",
          "text": [
            "Epoch 1\n"
          ]
        },
        {
          "output_type": "stream",
          "name": "stderr",
          "text": [
            "100%|██████████| 3674/3674 [00:26<00:00, 141.27it/s]\n"
          ]
        },
        {
          "output_type": "stream",
          "name": "stdout",
          "text": [
            "Train Accuracy:  84.94486668361058  %\n"
          ]
        },
        {
          "output_type": "stream",
          "name": "stderr",
          "text": [
            "100%|██████████| 1810/1810 [00:10<00:00, 175.31it/s]\n"
          ]
        },
        {
          "output_type": "stream",
          "name": "stdout",
          "text": [
            "Test Accuracy:  88.12228563902656  %\n",
            "---\n",
            "Epoch 2\n"
          ]
        },
        {
          "output_type": "stream",
          "name": "stderr",
          "text": [
            "100%|██████████| 3674/3674 [00:25<00:00, 143.61it/s]\n"
          ]
        },
        {
          "output_type": "stream",
          "name": "stdout",
          "text": [
            "Train Accuracy:  88.91814491730268  %\n"
          ]
        },
        {
          "output_type": "stream",
          "name": "stderr",
          "text": [
            "100%|██████████| 1810/1810 [00:10<00:00, 177.36it/s]\n"
          ]
        },
        {
          "output_type": "stream",
          "name": "stdout",
          "text": [
            "Test Accuracy:  89.18832847721583  %\n",
            "---\n",
            "Epoch 3\n"
          ]
        },
        {
          "output_type": "stream",
          "name": "stderr",
          "text": [
            "100%|██████████| 3674/3674 [00:25<00:00, 145.59it/s]\n"
          ]
        },
        {
          "output_type": "stream",
          "name": "stdout",
          "text": [
            "Train Accuracy:  89.66264939804776  %\n"
          ]
        },
        {
          "output_type": "stream",
          "name": "stderr",
          "text": [
            "100%|██████████| 1810/1810 [00:10<00:00, 173.56it/s]\n"
          ]
        },
        {
          "output_type": "stream",
          "name": "stdout",
          "text": [
            "Test Accuracy:  89.77624435537064  %\n",
            "---\n",
            "Epoch 4\n"
          ]
        },
        {
          "output_type": "stream",
          "name": "stderr",
          "text": [
            "100%|██████████| 3674/3674 [00:25<00:00, 143.26it/s]\n"
          ]
        },
        {
          "output_type": "stream",
          "name": "stdout",
          "text": [
            "Train Accuracy:  90.08243677667099  %\n"
          ]
        },
        {
          "output_type": "stream",
          "name": "stderr",
          "text": [
            "100%|██████████| 1810/1810 [00:10<00:00, 174.36it/s]\n"
          ]
        },
        {
          "output_type": "stream",
          "name": "stdout",
          "text": [
            "Test Accuracy:  89.7385685122792  %\n",
            "---\n",
            "Epoch 5\n"
          ]
        },
        {
          "output_type": "stream",
          "name": "stderr",
          "text": [
            "100%|██████████| 3674/3674 [00:24<00:00, 147.11it/s]\n"
          ]
        },
        {
          "output_type": "stream",
          "name": "stdout",
          "text": [
            "Train Accuracy:  90.34802739810519  %\n"
          ]
        },
        {
          "output_type": "stream",
          "name": "stderr",
          "text": [
            "100%|██████████| 1810/1810 [00:10<00:00, 177.53it/s]\n"
          ]
        },
        {
          "output_type": "stream",
          "name": "stdout",
          "text": [
            "Test Accuracy:  89.88592531978587  %\n",
            "---\n",
            "Epoch 6\n"
          ]
        },
        {
          "output_type": "stream",
          "name": "stderr",
          "text": [
            "100%|██████████| 3674/3674 [00:24<00:00, 149.31it/s]\n"
          ]
        },
        {
          "output_type": "stream",
          "name": "stdout",
          "text": [
            "Train Accuracy:  90.524024386483  %\n"
          ]
        },
        {
          "output_type": "stream",
          "name": "stderr",
          "text": [
            "100%|██████████| 1810/1810 [00:10<00:00, 176.61it/s]\n"
          ]
        },
        {
          "output_type": "stream",
          "name": "stdout",
          "text": [
            "Test Accuracy:  89.93428857968549  %\n",
            "---\n",
            "Epoch 7\n"
          ]
        },
        {
          "output_type": "stream",
          "name": "stderr",
          "text": [
            "100%|██████████| 3674/3674 [00:24<00:00, 149.87it/s]\n"
          ]
        },
        {
          "output_type": "stream",
          "name": "stdout",
          "text": [
            "Train Accuracy:  90.66232292629289  %\n"
          ]
        },
        {
          "output_type": "stream",
          "name": "stderr",
          "text": [
            "100%|██████████| 1810/1810 [00:10<00:00, 180.91it/s]\n"
          ]
        },
        {
          "output_type": "stream",
          "name": "stdout",
          "text": [
            "Test Accuracy:  89.97714620062332  %\n",
            "---\n",
            "Epoch 8\n"
          ]
        },
        {
          "output_type": "stream",
          "name": "stderr",
          "text": [
            "100%|██████████| 3674/3674 [00:25<00:00, 146.54it/s]\n"
          ]
        },
        {
          "output_type": "stream",
          "name": "stdout",
          "text": [
            "Train Accuracy:  90.77100505446336  %\n"
          ]
        },
        {
          "output_type": "stream",
          "name": "stderr",
          "text": [
            "100%|██████████| 1810/1810 [00:10<00:00, 177.18it/s]\n"
          ]
        },
        {
          "output_type": "stream",
          "name": "stdout",
          "text": [
            "Test Accuracy:  90.05983873875527  %\n",
            "---\n",
            "Epoch 9\n"
          ]
        },
        {
          "output_type": "stream",
          "name": "stderr",
          "text": [
            "100%|██████████| 3674/3674 [00:25<00:00, 144.95it/s]\n"
          ]
        },
        {
          "output_type": "stream",
          "name": "stdout",
          "text": [
            "Train Accuracy:  90.89032144175032  %\n"
          ]
        },
        {
          "output_type": "stream",
          "name": "stderr",
          "text": [
            "100%|██████████| 1810/1810 [00:10<00:00, 175.28it/s]\n"
          ]
        },
        {
          "output_type": "stream",
          "name": "stdout",
          "text": [
            "Test Accuracy:  90.00467439543226  %\n",
            "---\n",
            "Epoch 10\n"
          ]
        },
        {
          "output_type": "stream",
          "name": "stderr",
          "text": [
            "100%|██████████| 3674/3674 [00:25<00:00, 143.83it/s]\n"
          ]
        },
        {
          "output_type": "stream",
          "name": "stdout",
          "text": [
            "Train Accuracy:  90.97071644067094  %\n"
          ]
        },
        {
          "output_type": "stream",
          "name": "stderr",
          "text": [
            "100%|██████████| 1810/1810 [00:10<00:00, 176.95it/s]\n"
          ]
        },
        {
          "output_type": "stream",
          "name": "stdout",
          "text": [
            "Test Accuracy:  90.01449818259937  %\n",
            "---\n",
            "Epoch 11\n"
          ]
        },
        {
          "output_type": "stream",
          "name": "stderr",
          "text": [
            "100%|██████████| 3674/3674 [00:24<00:00, 147.86it/s]\n"
          ]
        },
        {
          "output_type": "stream",
          "name": "stdout",
          "text": [
            "Train Accuracy:  91.0424976897072  %\n"
          ]
        },
        {
          "output_type": "stream",
          "name": "stderr",
          "text": [
            "100%|██████████| 1810/1810 [00:10<00:00, 175.21it/s]\n"
          ]
        },
        {
          "output_type": "stream",
          "name": "stdout",
          "text": [
            "Test Accuracy:  89.95739067258397  %\n",
            "---\n",
            "Epoch 12\n"
          ]
        },
        {
          "output_type": "stream",
          "name": "stderr",
          "text": [
            "100%|██████████| 3674/3674 [00:24<00:00, 149.34it/s]\n"
          ]
        },
        {
          "output_type": "stream",
          "name": "stdout",
          "text": [
            "Train Accuracy:  91.12225463308084  %\n"
          ]
        },
        {
          "output_type": "stream",
          "name": "stderr",
          "text": [
            "100%|██████████| 1810/1810 [00:10<00:00, 177.06it/s]\n"
          ]
        },
        {
          "output_type": "stream",
          "name": "stdout",
          "text": [
            "Test Accuracy:  90.10269635969311  %\n",
            "---\n",
            "Epoch 13\n"
          ]
        },
        {
          "output_type": "stream",
          "name": "stderr",
          "text": [
            "100%|██████████| 3674/3674 [00:25<00:00, 143.73it/s]\n"
          ]
        },
        {
          "output_type": "stream",
          "name": "stdout",
          "text": [
            "Train Accuracy:  91.15559303541102  %\n"
          ]
        },
        {
          "output_type": "stream",
          "name": "stderr",
          "text": [
            "100%|██████████| 1810/1810 [00:10<00:00, 178.25it/s]\n"
          ]
        },
        {
          "output_type": "stream",
          "name": "stdout",
          "text": [
            "Test Accuracy:  89.91431714423587  %\n",
            "---\n",
            "Epoch 14\n"
          ]
        },
        {
          "output_type": "stream",
          "name": "stderr",
          "text": [
            "100%|██████████| 3674/3674 [00:25<00:00, 146.72it/s]\n"
          ]
        },
        {
          "output_type": "stream",
          "name": "stdout",
          "text": [
            "Train Accuracy:  91.2025432894103  %\n"
          ]
        },
        {
          "output_type": "stream",
          "name": "stderr",
          "text": [
            "100%|██████████| 1810/1810 [00:10<00:00, 176.09it/s]\n"
          ]
        },
        {
          "output_type": "stream",
          "name": "stdout",
          "text": [
            "Test Accuracy:  90.20730349996707  %\n",
            "---\n",
            "Epoch 15\n"
          ]
        },
        {
          "output_type": "stream",
          "name": "stderr",
          "text": [
            "100%|██████████| 3674/3674 [00:25<00:00, 146.87it/s]\n"
          ]
        },
        {
          "output_type": "stream",
          "name": "stdout",
          "text": [
            "Train Accuracy:  91.28160900594136  %\n"
          ]
        },
        {
          "output_type": "stream",
          "name": "stderr",
          "text": [
            "100%|██████████| 1810/1810 [00:10<00:00, 171.76it/s]\n"
          ]
        },
        {
          "output_type": "stream",
          "name": "stdout",
          "text": [
            "Test Accuracy:  90.24336003748152  %\n",
            "---\n",
            "Epoch 16\n"
          ]
        },
        {
          "output_type": "stream",
          "name": "stderr",
          "text": [
            "100%|██████████| 3674/3674 [00:24<00:00, 147.74it/s]\n"
          ]
        },
        {
          "output_type": "stream",
          "name": "stdout",
          "text": [
            "Train Accuracy:  91.28947835768756  %\n"
          ]
        },
        {
          "output_type": "stream",
          "name": "stderr",
          "text": [
            "100%|██████████| 1810/1810 [00:10<00:00, 178.79it/s]\n"
          ]
        },
        {
          "output_type": "stream",
          "name": "stdout",
          "text": [
            "Test Accuracy:  90.14523011951555  %\n",
            "---\n",
            "Epoch 17\n"
          ]
        },
        {
          "output_type": "stream",
          "name": "stderr",
          "text": [
            "100%|██████████| 3674/3674 [00:24<00:00, 148.67it/s]\n"
          ]
        },
        {
          "output_type": "stream",
          "name": "stdout",
          "text": [
            "Train Accuracy:  91.33377004690772  %\n"
          ]
        },
        {
          "output_type": "stream",
          "name": "stderr",
          "text": [
            "100%|██████████| 1810/1810 [00:10<00:00, 176.75it/s]\n"
          ]
        },
        {
          "output_type": "stream",
          "name": "stdout",
          "text": [
            "Test Accuracy:  90.25145656536651  %\n",
            "---\n",
            "Epoch 18\n"
          ]
        },
        {
          "output_type": "stream",
          "name": "stderr",
          "text": [
            "100%|██████████| 3674/3674 [00:24<00:00, 148.45it/s]\n"
          ]
        },
        {
          "output_type": "stream",
          "name": "stdout",
          "text": [
            "Train Accuracy:  91.34887069485312  %\n"
          ]
        },
        {
          "output_type": "stream",
          "name": "stderr",
          "text": [
            "100%|██████████| 1810/1810 [00:10<00:00, 169.33it/s]\n"
          ]
        },
        {
          "output_type": "stream",
          "name": "stdout",
          "text": [
            "Test Accuracy:  90.28233132503458  %\n",
            "---\n",
            "Epoch 19\n"
          ]
        },
        {
          "output_type": "stream",
          "name": "stderr",
          "text": [
            "100%|██████████| 3674/3674 [00:24<00:00, 147.06it/s]\n"
          ]
        },
        {
          "output_type": "stream",
          "name": "stdout",
          "text": [
            "Train Accuracy:  91.37146849547565  %\n"
          ]
        },
        {
          "output_type": "stream",
          "name": "stderr",
          "text": [
            "100%|██████████| 1810/1810 [00:10<00:00, 177.64it/s]\n"
          ]
        },
        {
          "output_type": "stream",
          "name": "stdout",
          "text": [
            "Test Accuracy:  90.31417766804883  %\n",
            "---\n",
            "Epoch 20\n"
          ]
        },
        {
          "output_type": "stream",
          "name": "stderr",
          "text": [
            "100%|██████████| 3674/3674 [00:25<00:00, 143.96it/s]\n"
          ]
        },
        {
          "output_type": "stream",
          "name": "stdout",
          "text": [
            "Train Accuracy:  91.38784525451504  %\n"
          ]
        },
        {
          "output_type": "stream",
          "name": "stderr",
          "text": [
            "100%|██████████| 1810/1810 [00:10<00:00, 173.79it/s]\n"
          ]
        },
        {
          "output_type": "stream",
          "name": "stdout",
          "text": [
            "Test Accuracy:  90.35563189081994  %\n",
            "---\n",
            "Epoch 21\n"
          ]
        },
        {
          "output_type": "stream",
          "name": "stderr",
          "text": [
            "100%|██████████| 3674/3674 [00:25<00:00, 143.83it/s]\n"
          ]
        },
        {
          "output_type": "stream",
          "name": "stdout",
          "text": [
            "Train Accuracy:  91.41980120316008  %\n"
          ]
        },
        {
          "output_type": "stream",
          "name": "stderr",
          "text": [
            "100%|██████████| 1810/1810 [00:10<00:00, 172.98it/s]\n"
          ]
        },
        {
          "output_type": "stream",
          "name": "stdout",
          "text": [
            "Test Accuracy:  90.3156890199207  %\n",
            "---\n",
            "Epoch 22\n"
          ]
        },
        {
          "output_type": "stream",
          "name": "stderr",
          "text": [
            "100%|██████████| 3674/3674 [00:24<00:00, 148.20it/s]\n"
          ]
        },
        {
          "output_type": "stream",
          "name": "stdout",
          "text": [
            "Train Accuracy:  91.44234583248702  %\n"
          ]
        },
        {
          "output_type": "stream",
          "name": "stderr",
          "text": [
            "100%|██████████| 1810/1810 [00:09<00:00, 182.19it/s]\n"
          ]
        },
        {
          "output_type": "stream",
          "name": "stdout",
          "text": [
            "Test Accuracy:  90.30834816797164  %\n",
            "---\n",
            "Epoch 23\n"
          ]
        },
        {
          "output_type": "stream",
          "name": "stderr",
          "text": [
            "100%|██████████| 3674/3674 [00:25<00:00, 145.39it/s]\n"
          ]
        },
        {
          "output_type": "stream",
          "name": "stdout",
          "text": [
            "Train Accuracy:  91.46978222100755  %\n"
          ]
        },
        {
          "output_type": "stream",
          "name": "stderr",
          "text": [
            "100%|██████████| 1810/1810 [00:09<00:00, 181.59it/s]\n"
          ]
        },
        {
          "output_type": "stream",
          "name": "stdout",
          "text": [
            "Test Accuracy:  90.37938170594921  %\n",
            "---\n",
            "Epoch 24\n"
          ]
        },
        {
          "output_type": "stream",
          "name": "stderr",
          "text": [
            "100%|██████████| 3674/3674 [00:25<00:00, 146.02it/s]\n"
          ]
        },
        {
          "output_type": "stream",
          "name": "stdout",
          "text": [
            "Train Accuracy:  91.4862653226381  %\n"
          ]
        },
        {
          "output_type": "stream",
          "name": "stderr",
          "text": [
            "100%|██████████| 1810/1810 [00:10<00:00, 177.22it/s]\n"
          ]
        },
        {
          "output_type": "stream",
          "name": "stdout",
          "text": [
            "Test Accuracy:  90.21669547231366  %\n",
            "---\n",
            "Epoch 25\n"
          ]
        },
        {
          "output_type": "stream",
          "name": "stderr",
          "text": [
            "100%|██████████| 3674/3674 [00:24<00:00, 148.21it/s]\n"
          ]
        },
        {
          "output_type": "stream",
          "name": "stdout",
          "text": [
            "Train Accuracy:  91.53162043776992  %\n"
          ]
        },
        {
          "output_type": "stream",
          "name": "stderr",
          "text": [
            "100%|██████████| 1810/1810 [00:10<00:00, 171.60it/s]"
          ]
        },
        {
          "output_type": "stream",
          "name": "stdout",
          "text": [
            "Test Accuracy:  90.3552000759994  %\n",
            "---\n"
          ]
        },
        {
          "output_type": "stream",
          "name": "stderr",
          "text": [
            "\n"
          ]
        }
      ]
    },
    {
      "cell_type": "code",
      "source": [
        "def plot_cost(train_loss, title):\n",
        "    plt.plot(train_loss, color='blue', label='Train loss')\n",
        "    plt.ylabel('loss')\n",
        "    plt.xlabel('epochs ')\n",
        "    plt.title(title)\n",
        "    plt.legend()\n",
        "    plt.show()"
      ],
      "metadata": {
        "id": "N_dKQl83FRzV"
      },
      "execution_count": 49,
      "outputs": []
    },
    {
      "cell_type": "code",
      "source": [
        "plot_cost(train_loss, \"Doodle Loss graph\")"
      ],
      "metadata": {
        "colab": {
          "base_uri": "https://localhost:8080/",
          "height": 294
        },
        "id": "Wj9eNthCFXQG",
        "outputId": "077eef7d-538c-412b-e8f5-1da1005d6a7b"
      },
      "execution_count": 40,
      "outputs": [
        {
          "output_type": "display_data",
          "data": {
            "image/png": "[encoded data removed]",
            "text/plain": [
              "<Figure size 432x288 with 1 Axes>"
            ]
          },
          "metadata": {
            "needs_background": "light"
          }
        }
      ]
    },
    {
      "cell_type": "code",
      "metadata": {
        "id": "gKGwPPsw0FXN"
      },
      "source": [
        "from google.colab import files\n",
        "import helper"
      ],
      "execution_count": 41,
      "outputs": []
    },
    {
      "cell_type": "code",
      "metadata": {
        "id": "LrscRY2cAeVo",
        "colab": {
          "base_uri": "https://localhost:8080/",
          "height": 16
        },
        "outputId": "aa5a5337-4d25-46f6-cf88-3bf866127e70"
      },
      "source": [
        "# save the model\n",
        "FILE = 'doodle_model.pth'\n",
        "torch.save(cnn_model.state_dict(), FILE)\n",
        "files.download('doodle_model.pth')"
      ],
      "execution_count": 43,
      "outputs": [
        {
          "output_type": "display_data",
          "data": {
            "application/javascript": [
              "\n",
              "    async function download(id, filename, size) {\n",
              "      if (!google.colab.kernel.accessAllowed) {\n",
              "        return;\n",
              "      }\n",
              "      const div = document.createElement('div');\n",
              "      const label = document.createElement('label');\n",
              "      label.textContent = `Downloading \"${filename}\": `;\n",
              "      div.appendChild(label);\n",
              "      const progress = document.createElement('progress');\n",
              "      progress.max = size;\n",
              "      div.appendChild(progress);\n",
              "      document.body.appendChild(div);\n",
              "\n",
              "      const buffers = [];\n",
              "      let downloaded = 0;\n",
              "\n",
              "      const channel = await google.colab.kernel.comms.open(id);\n",
              "      // Send a message to notify the kernel that we're ready.\n",
              "      channel.send({})\n",
              "\n",
              "      for await (const message of channel.messages) {\n",
              "        // Send a message to notify the kernel that we're ready.\n",
              "        channel.send({})\n",
              "        if (message.buffers) {\n",
              "          for (const buffer of message.buffers) {\n",
              "            buffers.push(buffer);\n",
              "            downloaded += buffer.byteLength;\n",
              "            progress.value = downloaded;\n",
              "          }\n",
              "        }\n",
              "      }\n",
              "      const blob = new Blob(buffers, {type: 'application/binary'});\n",
              "      const a = document.createElement('a');\n",
              "      a.href = window.URL.createObjectURL(blob);\n",
              "      a.download = filename;\n",
              "      div.appendChild(a);\n",
              "      a.click();\n",
              "      div.remove();\n",
              "    }\n",
              "  "
            ],
            "text/plain": [
              "<IPython.core.display.Javascript object>"
            ]
          },
          "metadata": {}
        },
        {
          "output_type": "display_data",
          "data": {
            "application/javascript": [
              "download(\"download_467edc3c-32e2-4613-b338-8aa4e440710e\", \"doodle_model.pth\", 421121)"
            ],
            "text/plain": [
              "<IPython.core.display.Javascript object>"
            ]
          },
          "metadata": {}
        }
      ]
    },
    {
      "cell_type": "code",
      "metadata": {
        "id": "PPaF3gPzB85Y",
        "colab": {
          "base_uri": "https://localhost:8080/"
        },
        "outputId": "959bc701-0f6d-4454-949a-7fdb6e43177a"
      },
      "source": [
        "loaded_model = ConvNetwork()\n",
        "loaded_model.load_state_dict(torch.load(FILE))\n",
        "loaded_model.eval()"
      ],
      "execution_count": 44,
      "outputs": [
        {
          "output_type": "execute_result",
          "data": {
            "text/plain": [
              "ConvNetwork(\n",
              "  (conv1): Conv2d(1, 8, kernel_size=(5, 5), stride=(1, 1))\n",
              "  (pool): MaxPool2d(kernel_size=2, stride=2, padding=0, dilation=1, ceil_mode=False)\n",
              "  (conv2): Conv2d(8, 20, kernel_size=(5, 5), stride=(1, 1))\n",
              "  (fc1): Linear(in_features=320, out_features=200, bias=True)\n",
              "  (fc2): Linear(in_features=200, out_features=120, bias=True)\n",
              "  (fc3): Linear(in_features=120, out_features=84, bias=True)\n",
              "  (fc4): Linear(in_features=84, out_features=20, bias=True)\n",
              ")"
            ]
          },
          "metadata": {},
          "execution_count": 44
        }
      ]
    },
    {
      "cell_type": "code",
      "metadata": {
        "id": "FI9kwnwmrjSx",
        "colab": {
          "base_uri": "https://localhost:8080/",
          "height": 283
        },
        "outputId": "99b20ed3-39aa-4e4a-aa80-ffb3dbaa0bf7"
      },
      "source": [
        "# test your model's accuracy with predicted results\n",
        "sample = next(iter(dataloader_test))\n",
        "images, labels = sample\n",
        "\n",
        "n = rd.randrange(0,len(images))\n",
        "img = images[n]\n",
        "\n",
        "plt.imshow(img.reshape(28,28),cmap = 'gray')\n",
        "img = img.to(device)\n",
        "img = img.reshape(1,1,28,28)\n",
        "out = cnn_model(img.float())\n",
        "_, predicted = torch.max(out, 1)\n",
        "print(\"Looks like : \",classes[predicted])"
      ],
      "execution_count": 50,
      "outputs": [
        {
          "output_type": "stream",
          "name": "stdout",
          "text": [
            "Looks like :  fish\n"
          ]
        },
        {
          "output_type": "display_data",
          "data": {
            "image/png": "[encoded data removed]",
            "text/plain": [
              "<Figure size 432x288 with 1 Axes>"
            ]
          },
          "metadata": {
            "needs_background": "light"
          }
        }
      ]
    }
  ]
}