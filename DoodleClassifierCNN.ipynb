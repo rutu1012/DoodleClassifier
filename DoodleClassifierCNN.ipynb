{
  "nbformat": 4,
  "nbformat_minor": 0,
  "metadata": {
    "accelerator": "GPU",
    "colab": {
      "name": "DoodleClassifierCNN.ipynb",
      "provenance": [],
      "collapsed_sections": []
    },
    "kernelspec": {
      "display_name": "Python 3",
      "name": "python3"
    },
    "language_info": {
      "name": "python"
    }
  },
  "cells": [
    {
      "cell_type": "code",
      "metadata": {
        "id": "ev64V3F36Bvm"
      },
      "source": [
        "import os\n",
        "import torch\n",
        "import torch.nn as nn\n",
        "import torchvision\n",
        "from torchvision import datasets, transforms\n",
        "from torch.utils.data import Dataset\n",
        "from torch.utils.data import DataLoader\n",
        "import matplotlib.pyplot as plt\n",
        "import numpy as np\n",
        "import torch.nn.functional as F\n",
        "from sklearn.model_selection import train_test_split\n",
        "import random as rd"
      ],
      "execution_count": 1,
      "outputs": []
    },
    {
      "cell_type": "code",
      "metadata": {
        "colab": {
          "base_uri": "https://localhost:8080/"
        },
        "id": "qM4U4CzQbNJ0",
        "outputId": "46957bbe-589a-47c8-df4c-de1fd2cdd988"
      },
      "source": [
        "#upload the doodle dataset zip file on your drive to use\n",
        "from google.colab import drive\n",
        "drive.mount('/content/drive')"
      ],
      "execution_count": 2,
      "outputs": [
        {
          "output_type": "stream",
          "name": "stdout",
          "text": [
            "Mounted at /content/drive\n"
          ]
        }
      ]
    },
    {
      "cell_type": "code",
      "metadata": {
        "id": "ZDt9bBgw6F7d"
      },
      "source": [
        "device = torch.device('cuda' if torch.cuda.is_available() else 'cpu')"
      ],
      "execution_count": 3,
      "outputs": []
    },
    {
      "cell_type": "code",
      "metadata": {
        "id": "BjlCnu6bAOSz"
      },
      "source": [
        "torch.cuda.empty_cache()"
      ],
      "execution_count": 4,
      "outputs": []
    },
    {
      "cell_type": "code",
      "metadata": {
        "id": "0zYu9NT26x5F",
        "colab": {
          "base_uri": "https://localhost:8080/"
        },
        "outputId": "9e1c7dce-f9f4-47ac-9436-6c5a1f4b1b94"
      },
      "source": [
        "!unrar e '/content/drive/MyDrive/doodle/Doodle dataset.rar' #unrar the doodle dataset from your drive"
      ],
      "execution_count": 6,
      "outputs": [
        {
          "output_type": "stream",
          "name": "stdout",
          "text": [
            "\n",
            "UNRAR 5.50 freeware      Copyright (c) 1993-2017 Alexander Roshal\n",
            "\n",
            "\n",
            "Extracting from /content/drive/MyDrive/doodle/Doodle dataset.rar\n",
            "\n",
            "Extracting  full_numpy_bitmap_airplane.npy                               \b\b\b\b  0%\b\b\b\b  1%\b\b\b\b  2%\b\b\b\b  3%\b\b\b\b  4%\b\b\b\b  5%\b\b\b\b\b  OK \n",
            "Extracting  full_numpy_bitmap_ant.npy                                    \b\b\b\b  5%\b\b\b\b  6%\b\b\b\b  7%\b\b\b\b  8%\b\b\b\b  9%\b\b\b\b\b  OK \n",
            "Extracting  full_numpy_bitmap_banana.npy                                 \b\b\b\b  9%\b\b\b\b 10%\b\b\b\b 11%\b\b\b\b 12%\b\b\b\b 13%\b\b\b\b 14%\b\b\b\b 15%\b\b\b\b 16%\b\b\b\b 17%\b\b\b\b 18%\b\b\b\b 19%\b\b\b\b\b  OK \n",
            "Extracting  full_numpy_bitmap_baseball.npy                               \b\b\b\b 19%\b\b\b\b 20%\b\b\b\b 21%\b\b\b\b 22%\b\b\b\b 23%\b\b\b\b 24%\b\b\b\b 25%\b\b\b\b\b  OK \n",
            "Extracting  full_numpy_bitmap_bird.npy                                   \b\b\b\b 25%\b\b\b\b 26%\b\b\b\b 27%\b\b\b\b 28%\b\b\b\b 29%\b\b\b\b 30%\b\b\b\b\b  OK \n",
            "Extracting  full_numpy_bitmap_bucket.npy                                 \b\b\b\b 30%\b\b\b\b 31%\b\b\b\b 32%\b\b\b\b 33%\b\b\b\b 34%\b\b\b\b\b  OK \n",
            "Extracting  full_numpy_bitmap_butterfly.npy                              \b\b\b\b 34%\b\b\b\b 35%\b\b\b\b 36%\b\b\b\b 37%\b\b\b\b 38%\b\b\b\b 39%\b\b\b\b 40%\b\b\b\b\b  OK \n",
            "Extracting  full_numpy_bitmap_cat.npy                                    \b\b\b\b 40%\b\b\b\b 41%\b\b\b\b 42%\b\b\b\b 43%\b\b\b\b 44%\b\b\b\b 45%\b\b\b\b\b  OK \n",
            "Extracting  full_numpy_bitmap_coffee cup.npy                             \b\b\b\b 45%\b\b\b\b 46%\b\b\b\b 47%\b\b\b\b 48%\b\b\b\b 49%\b\b\b\b 50%\b\b\b\b 51%\b\b\b\b 52%\b\b\b\b 53%\b\b\b\b\b  OK \n",
            "Extracting  full_numpy_bitmap_dolphin.npy                                \b\b\b\b 53%\b\b\b\b 54%\b\b\b\b 55%\b\b\b\b 56%\b\b\b\b\b  OK \n",
            "Extracting  full_numpy_bitmap_donut.npy                                  \b\b\b\b 56%\b\b\b\b 57%\b\b\b\b 58%\b\b\b\b 59%\b\b\b\b 60%\b\b\b\b 61%\b\b\b\b 62%\b\b\b\b 63%\b\b\b\b\b  OK \n",
            "Extracting  full_numpy_bitmap_duck.npy                                   \b\b\b\b 63%\b\b\b\b 64%\b\b\b\b 65%\b\b\b\b 66%\b\b\b\b 67%\b\b\b\b 68%\b\b\b\b\b  OK \n",
            "Extracting  full_numpy_bitmap_fish.npy                                   \b\b\b\b 68%\b\b\b\b 69%\b\b\b\b 70%\b\b\b\b 71%\b\b\b\b 72%\b\b\b\b\b  OK \n",
            "Extracting  full_numpy_bitmap_leaf.npy                                   \b\b\b\b 72%\b\b\b\b 73%\b\b\b\b 74%\b\b\b\b 75%\b\b\b\b 76%\b\b\b\b 77%\b\b\b\b\b  OK \n",
            "Extracting  full_numpy_bitmap_mountain.npy                               \b\b\b\b 77%\b\b\b\b 78%\b\b\b\b 79%\b\b\b\b 80%\b\b\b\b\b  OK \n",
            "Extracting  full_numpy_bitmap_pencil.npy                                 \b\b\b\b 80%\b\b\b\b 81%\b\b\b\b 82%\b\b\b\b 83%\b\b\b\b\b  OK \n",
            "Extracting  full_numpy_bitmap_smiley face.npy                            \b\b\b\b 83%\b\b\b\b 84%\b\b\b\b 85%\b\b\b\b 86%\b\b\b\b 87%\b\b\b\b 88%\b\b\b\b 89%\b\b\b\b\b  OK \n",
            "Extracting  full_numpy_bitmap_snake.npy                                  \b\b\b\b 89%\b\b\b\b 90%\b\b\b\b 91%\b\b\b\b 92%\b\b\b\b\b  OK \n",
            "Extracting  full_numpy_bitmap_umbrella.npy                               \b\b\b\b 92%\b\b\b\b 93%\b\b\b\b 94%\b\b\b\b 95%\b\b\b\b 96%\b\b\b\b\b  OK \n",
            "Extracting  full_numpy_bitmap_wine bottle.npy                            \b\b\b\b 96%\b\b\b\b 97%\b\b\b\b 98%\b\b\b\b 99%\b\b\b\b\b  OK \n",
            "All OK\n"
          ]
        }
      ]
    },
    {
      "cell_type": "code",
      "metadata": {
        "colab": {
          "base_uri": "https://localhost:8080/"
        },
        "id": "zGZbce-N8z7U",
        "outputId": "890e9c48-179a-4ed1-e1ae-54c9f853df56"
      },
      "source": [
        "classes = [\"airplane\", \"ant\", \"banana\", \"baseball\", \"bird\", \"bucket\", \"butterfly\", \"cat\", \"coffee cup\",\n",
        "           \"dolphin\", \"donut\", \"duck\", \"fish\", \"leaf\", \"mountain\", \"pencil\", \"smiley face\", \"snake\", \"umbrella\", \"wine bottle\"]\n",
        "print(len(classes))"
      ],
      "execution_count": 7,
      "outputs": [
        {
          "output_type": "stream",
          "name": "stdout",
          "text": [
            "20\n"
          ]
        }
      ]
    },
    {
      "cell_type": "code",
      "metadata": {
        "colab": {
          "base_uri": "https://localhost:8080/"
        },
        "id": "czNaTGvN0BbJ",
        "outputId": "1be2413f-e985-4bd6-a714-e3c16e29c0e9"
      },
      "source": [
        "Ap = torch.from_numpy(np.load(\"/content/full_numpy_bitmap_airplane.npy\"))\n",
        "print(Ap.shape)\n",
        "l1=np.full((151623,1),0)"
      ],
      "execution_count": 8,
      "outputs": [
        {
          "output_type": "stream",
          "name": "stdout",
          "text": [
            "torch.Size([151623, 784])\n"
          ]
        }
      ]
    },
    {
      "cell_type": "code",
      "metadata": {
        "colab": {
          "base_uri": "https://localhost:8080/",
          "height": 282
        },
        "id": "AjtGOmNo0v2D",
        "outputId": "5079746a-e893-4ed8-8be4-24cfa07efc8b"
      },
      "source": [
        "plt.imshow(Ap[23,:].reshape(28,28) , cmap='gray')"
      ],
      "execution_count": 9,
      "outputs": [
        {
          "output_type": "execute_result",
          "data": {
            "text/plain": [
              "<matplotlib.image.AxesImage at 0x7fc8e578d110>"
            ]
          },
          "metadata": {},
          "execution_count": 9
        },
        {
          "output_type": "display_data",
          "data": {
            "image/png": "[encoded data removed]",
            "text/plain": [
              "<Figure size 432x288 with 1 Axes>"
            ]
          },
          "metadata": {
            "needs_background": "light"
          }
        }
      ]
    },
    {
      "cell_type": "code",
      "metadata": {
        "id": "ov9F2JME1M2Q",
        "colab": {
          "base_uri": "https://localhost:8080/"
        },
        "outputId": "be892efc-28e6-4ee6-87e3-7f950e683999"
      },
      "source": [
        "ant = torch.from_numpy(np.load(\"/content/full_numpy_bitmap_ant.npy\"))\n",
        "l2=np.full((124612,1),1)\n",
        "print(ant.shape)\n",
        "bn = torch.from_numpy(np.load(\"/content/full_numpy_bitmap_banana.npy\"))\n",
        "print(bn.shape)\n",
        "l3=np.full((307936,1),2)\n",
        "bb = torch.from_numpy(np.load(\"/content/full_numpy_bitmap_baseball.npy\"))\n",
        "print(bb.shape)\n",
        "l4=np.full((135375,1),3)\n",
        "bird = torch.from_numpy(np.load(\"/content/full_numpy_bitmap_bird.npy\"))\n",
        "print(bird.shape)\n",
        "l5=np.full((133572,1),4)\n",
        "bk = torch.from_numpy(np.load(\"/content/full_numpy_bitmap_bucket.npy\"))\n",
        "print(bk.shape)\n",
        "l6=np.full((124064,1),5)\n",
        "bfly = torch.from_numpy(np.load(\"/content/full_numpy_bitmap_butterfly.npy\"))\n",
        "print(bfly.shape)\n",
        "l7=np.full((117999,1),6)\n",
        "cat = torch.from_numpy(np.load(\"/content/full_numpy_bitmap_cat.npy\"))\n",
        "print(cat.shape)\n",
        "l8=np.full((123202,1),7)\n",
        "cc = torch.from_numpy(np.load(\"/content/full_numpy_bitmap_coffee cup.npy\"))\n",
        "print(cc.shape)\n",
        "l9=np.full((183432,1),8)\n",
        "dolp = torch.from_numpy(np.load(\"/content/full_numpy_bitmap_dolphin.npy\"))\n",
        "print(dolp.shape)\n",
        "l10=np.full((121613,1),9)\n",
        "dn = torch.from_numpy(np.load(\"/content/full_numpy_bitmap_donut.npy\"))\n",
        "print(dn.shape)\n",
        "l11=np.full((140751,1),10)\n",
        "dk = torch.from_numpy(np.load(\"/content/full_numpy_bitmap_duck.npy\"))\n",
        "print(dk.shape)\n",
        "l12=np.full((135480,1),11)\n",
        "fish = torch.from_numpy(np.load(\"/content/full_numpy_bitmap_fish.npy\"))\n",
        "print(fish.shape)\n",
        "l13=np.full((134150,1),12)\n",
        "lf = torch.from_numpy(np.load(\"/content/full_numpy_bitmap_leaf.npy\"))\n",
        "print(lf.shape)\n",
        "l14=np.full((125571,1),13)\n",
        "mt = torch.from_numpy(np.load(\"/content/full_numpy_bitmap_mountain.npy\"))\n",
        "print(mt.shape)\n",
        "l15=np.full((128540,1),14)\n",
        "pn = torch.from_numpy(np.load(\"/content/full_numpy_bitmap_pencil.npy\"))\n",
        "print(pn.shape)\n",
        "l16=np.full((122001,1),15)\n",
        "sf = torch.from_numpy(np.load(\"/content/full_numpy_bitmap_smiley face.npy\"))\n",
        "print(sf.shape)\n",
        "l17=np.full((124386,1),16)\n",
        "snk = torch.from_numpy(np.load(\"/content/full_numpy_bitmap_snake.npy\"))\n",
        "print(snk.shape)\n",
        "l18=np.full((122273,1),17)\n",
        "umb = torch.from_numpy(np.load(\"/content/full_numpy_bitmap_umbrella.npy\"))\n",
        "print(umb.shape)\n",
        "l19=np.full((124084,1),18)\n",
        "wb = torch.from_numpy(np.load(\"/content/full_numpy_bitmap_wine bottle.npy\"))\n",
        "print(wb.shape)\n",
        "l20=np.full((126373,1),19)"
      ],
      "execution_count": 10,
      "outputs": [
        {
          "output_type": "stream",
          "name": "stdout",
          "text": [
            "torch.Size([124612, 784])\n",
            "torch.Size([307936, 784])\n",
            "torch.Size([135375, 784])\n",
            "torch.Size([133572, 784])\n",
            "torch.Size([124064, 784])\n",
            "torch.Size([117999, 784])\n",
            "torch.Size([123202, 784])\n",
            "torch.Size([183432, 784])\n",
            "torch.Size([121613, 784])\n",
            "torch.Size([140751, 784])\n",
            "torch.Size([135480, 784])\n",
            "torch.Size([134150, 784])\n",
            "torch.Size([125571, 784])\n",
            "torch.Size([128540, 784])\n",
            "torch.Size([122001, 784])\n",
            "torch.Size([124386, 784])\n",
            "torch.Size([122273, 784])\n",
            "torch.Size([124084, 784])\n",
            "torch.Size([126373, 784])\n"
          ]
        }
      ]
    },
    {
      "cell_type": "code",
      "metadata": {
        "colab": {
          "base_uri": "https://localhost:8080/"
        },
        "id": "19x2S5Fd6A8k",
        "outputId": "fdec6c21-51da-4737-8f53-290a2fb5fcdf"
      },
      "source": [
        "dataset = torch.cat((Ap,ant,bn,bb,bird,bk,bfly,cat,cc,dolp,dn,dk,fish,lf,mt,pn,sf,snk,umb,wb),0)\n",
        "print(dataset.size())"
      ],
      "execution_count": 11,
      "outputs": [
        {
          "output_type": "stream",
          "name": "stdout",
          "text": [
            "torch.Size([2807037, 784])\n"
          ]
        }
      ]
    },
    {
      "cell_type": "code",
      "metadata": {
        "colab": {
          "base_uri": "https://localhost:8080/"
        },
        "id": "S3dyN6hpR3gD",
        "outputId": "1d06dd26-d76a-4dab-f180-87a04d55fd16"
      },
      "source": [
        "labels_set = np.concatenate((l1,l2,l3,l4,l5,l6,l7,l8,l9,l10,l11,l12,l13,l14,l15,l16,l17,l18,l19,l20))\n",
        "# print(np.sum(labels_set))\n",
        "labels_set = torch.from_numpy(labels_set)\n",
        "print(labels_set.size())"
      ],
      "execution_count": 12,
      "outputs": [
        {
          "output_type": "stream",
          "name": "stdout",
          "text": [
            "torch.Size([2807037, 1])\n"
          ]
        }
      ]
    },
    {
      "cell_type": "code",
      "metadata": {
        "colab": {
          "base_uri": "https://localhost:8080/"
        },
        "id": "7JBS3WXlEtLo",
        "outputId": "00d35efd-37c9-44df-f613-2f6eb496f1ec"
      },
      "source": [
        "train_set, test_set, lbl_train,lbl_test = train_test_split(dataset,labels_set, test_size=0.33, random_state=1)\n",
        "print(train_set.shape)\n",
        "print(test_set.shape)\n",
        "print(lbl_train.shape)\n",
        "print(lbl_test.shape)"
      ],
      "execution_count": 13,
      "outputs": [
        {
          "output_type": "stream",
          "name": "stdout",
          "text": [
            "torch.Size([1880714, 784])\n",
            "torch.Size([926323, 784])\n",
            "torch.Size([1880714, 1])\n",
            "torch.Size([926323, 1])\n"
          ]
        }
      ]
    },
    {
      "cell_type": "code",
      "metadata": {
        "colab": {
          "base_uri": "https://localhost:8080/",
          "height": 282
        },
        "id": "g9_UvmygWVVL",
        "outputId": "90985016-fbd2-4a1b-e411-8c1c2d7b5262"
      },
      "source": [
        "n = rd.randrange(0,1880713)\n",
        "image,label = train_set[n], lbl_train[n]\n",
        "# print(image.shape)\n",
        "plt.imshow(image.reshape(28,28) , cmap='gray', interpolation = \"nearest\")\n",
        "print(\"Looks like: \"+classes[label])"
      ],
      "execution_count": 14,
      "outputs": [
        {
          "output_type": "stream",
          "name": "stdout",
          "text": [
            "Looks like: mountain\n"
          ]
        },
        {
          "output_type": "display_data",
          "data": {
            "image/png": "[encoded data removed]",
            "text/plain": [
              "<Figure size 432x288 with 1 Axes>"
            ]
          },
          "metadata": {
            "needs_background": "light"
          }
        }
      ]
    },
    {
      "cell_type": "code",
      "metadata": {
        "id": "zT0ewQ4AwXxA"
      },
      "source": [
        "class Data_Set(Dataset):\n",
        "    def __init__(self,t_set,lbl_set):\n",
        "        self.x = t_set.reshape(t_set.shape[0],1,28,28)\n",
        "        self.y = lbl_set\n",
        "        self.l = t_set.shape[0]\n",
        "    def __getitem__(self,i):\n",
        "        return self.x[i],self.y[i]\n",
        "    def __len__(self):\n",
        "        return self.l"
      ],
      "execution_count": 21,
      "outputs": []
    },
    {
      "cell_type": "code",
      "metadata": {
        "id": "2UgBroCgzCSo"
      },
      "source": [
        "data_train = Data_Set(train_set,lbl_train)\n",
        "dataloader_train = DataLoader(data_train, batch_size=512, shuffle=False, num_workers=2)\n",
        "data_test = Data_Set(test_set,lbl_test)\n",
        "dataloader_test = DataLoader(data_test, batch_size=512, shuffle=False, num_workers=2)"
      ],
      "execution_count": 22,
      "outputs": []
    },
    {
      "cell_type": "code",
      "metadata": {
        "id": "INajWmImVifh"
      },
      "source": [
        "class ConvNetwork(nn.Module):\n",
        "    def __init__(self):\n",
        "        super(ConvNetwork, self).__init__()\n",
        "        \n",
        "        self.conv1 = nn.Conv2d(1, 8, 5)\n",
        "        self.pool = nn.MaxPool2d(2,2)\n",
        "        self.conv2 = nn.Conv2d(8, 20, 5)\n",
        "\n",
        "        self.fc1 = nn.Linear(20 * 4 * 4, 200)\n",
        "        self.fc2 = nn.Linear(200, 120)\n",
        "        self.fc3 = nn.Linear(120, 84)\n",
        "        self.fc4 = nn.Linear(84, 20)\n",
        "\n",
        "    def forward(self, x):\n",
        "        x = self.pool(F.relu(self.conv1(x)))\n",
        "        x = self.pool(F.relu(self.conv2(x)))\n",
        "        x = torch.flatten(x, 1)\n",
        "\n",
        "        x = F.relu(self.fc1(x))\n",
        "        x = F.relu(self.fc2(x))\n",
        "        x = F.relu(self.fc3(x))\n",
        "        x = self.fc4(x)\n",
        "        return x"
      ],
      "execution_count": 27,
      "outputs": []
    },
    {
      "cell_type": "code",
      "metadata": {
        "id": "6u0ZisF-0HTD"
      },
      "source": [
        "def prediction(out,y):\n",
        "    _, predict = torch.max(out,1)\n",
        "    return (predict==y).sum().item()"
      ],
      "execution_count": 20,
      "outputs": []
    },
    {
      "cell_type": "code",
      "metadata": {
        "id": "31o2souJzbiQ"
      },
      "source": [
        "def training(train_loader,model, loss,opt, print_cost):\n",
        "\n",
        "    train_correct=0\n",
        "    train_size = len(train_loader.dataset)\n",
        "    \n",
        "    n_samples = 0\n",
        "    \n",
        "    for i, (imgs,labels) in enumerate(train_loader):\n",
        "\n",
        "        batch_size = train_loader.batch_size\n",
        "        imgs = imgs.to(device)\n",
        "        labels = labels.to(device)\n",
        "        labels = labels.squeeze(1) \n",
        "\n",
        "        #forward pass\n",
        "        out = model(imgs.float())\n",
        "        cost = loss(out,labels)\n",
        "        costs.append(cost)\n",
        "        #backward pass\n",
        "        opt.zero_grad()\n",
        "        cost.backward()\n",
        "        opt.step()\n",
        "\n",
        "        #prediction\n",
        "        n_samples += labels.shape[0]\n",
        "        train_correct += prediction(out,labels)\n",
        "        \n",
        "        if (i+1)%100==0 and print_cost:\n",
        "            print(f\"Cost  [{i+1}/{len(train_loader)}] : {cost.item()}\")\n",
        "    if print_cost:\n",
        "        plt.plot(np.squeeze(costs))\n",
        "        plt.ylabel('cost')\n",
        "        plt.xlabel('iterations ')\n",
        "        plt.title(\"Learning rate =\" + str(alpha))\n",
        "        plt.show()\n",
        "        print(\"---\")\n",
        "    acc= 100*train_correct/n_samples\n",
        "    print(\"Train Accuracy: \",acc,\" %\")"
      ],
      "execution_count": 45,
      "outputs": []
    },
    {
      "cell_type": "code",
      "metadata": {
        "id": "c_s-FuLs0SQp"
      },
      "source": [
        "def testing(test_loader,model,loss,opt):\n",
        "\n",
        "    test_loss, test_correct = 0, 0\n",
        "    test_cost=[]\n",
        "    num_batches = len(test_loader)\n",
        "    batch_size = test_loader.batch_size\n",
        "\n",
        "    n_samples = 0\n",
        "    i=0\n",
        "    with torch.no_grad():\n",
        "        for imgs, labels in test_loader:\n",
        "\n",
        "            imgs = imgs.to(device)\n",
        "            labels = labels.to(device)\n",
        "            labels = labels.squeeze(1)\n",
        "\n",
        "            # forward pass\n",
        "            out = model(imgs.float())\n",
        "\n",
        "            n_samples += labels.shape[0]\n",
        "            test_loss = loss(out, labels).item()\n",
        "            test_correct += prediction(out,labels)\n",
        "\n",
        "            test_cost.append(test_loss)\n",
        "            i+=1\n",
        "\n",
        "    test_loss /= num_batches\n",
        "    acc = 100*test_correct/n_samples\n",
        "    # print(\"Average Test Loss: \",test_loss)\n",
        "    print(\"Test Accuracy: \",acc,\" %\")"
      ],
      "execution_count": 46,
      "outputs": []
    },
    {
      "cell_type": "code",
      "metadata": {
        "id": "HLacOvZU0mxh"
      },
      "source": [
        "cnn_model = ConvNetwork().to(device)\n",
        "params = cnn_model.parameters()\n",
        "alpha = 0.001\n",
        "costs=[]\n",
        "epoch_cost = []"
      ],
      "execution_count": 47,
      "outputs": []
    },
    {
      "cell_type": "code",
      "metadata": {
        "id": "lYBSPJNxErbZ"
      },
      "source": [
        "loss = nn.CrossEntropyLoss()\n",
        "opt = torch.optim.Adam(params, lr=alpha, betas=(0.9, 0.999), eps=1e-08)"
      ],
      "execution_count": 48,
      "outputs": []
    },
    {
      "cell_type": "code",
      "metadata": {
        "colab": {
          "base_uri": "https://localhost:8080/",
          "height": 1000
        },
        "id": "Nj1fd3cH0uVA",
        "outputId": "81355ce7-a074-4fcf-ab1a-9d4ea88eb3a8"
      },
      "source": [
        "num_epochs=70\n",
        "for epoch in range(num_epochs):\n",
        "    print(f\"Epoch {epoch+1}\")\n",
        "    training(dataloader_train, cnn_model, loss, opt, print_cost=False)\n",
        "    epoch_cost.append(costs[-1])\n",
        "    testing(dataloader_test, cnn_model, loss, opt)        \n",
        "    print(\"---\")\n",
        "\n",
        "#plot cost per epoch graph    \n",
        "plt.plot(np.squeeze(epoch_cost))\n",
        "plt.ylabel('cost')\n",
        "plt.xlabel('epochs ')\n",
        "plt.title(\"Learning rate =\" + str(alpha))\n",
        "plt.show()"
      ],
      "execution_count": 49,
      "outputs": [
        {
          "output_type": "stream",
          "name": "stdout",
          "text": [
            "Epoch 1\n",
            "Train Accuracy:  85.25496167944728  %\n",
            "Test Accuracy:  88.13470031511686  %\n",
            "---\n",
            "Epoch 2\n",
            "Train Accuracy:  88.99896528658796  %\n",
            "Test Accuracy:  89.15043672671412  %\n",
            "---\n",
            "Epoch 3\n",
            "Train Accuracy:  89.81413441916209  %\n",
            "Test Accuracy:  89.62694438117158  %\n",
            "---\n",
            "Epoch 4\n",
            "Train Accuracy:  90.25949719096046  %\n",
            "Test Accuracy:  90.09200894288493  %\n",
            "---\n",
            "Epoch 5\n",
            "Train Accuracy:  90.54954660836258  %\n",
            "Test Accuracy:  89.95544750589157  %\n",
            "---\n",
            "Epoch 6\n",
            "Train Accuracy:  90.74766285570267  %\n",
            "Test Accuracy:  90.13141204525851  %\n",
            "---\n",
            "Epoch 7\n",
            "Train Accuracy:  90.91084556184514  %\n",
            "Test Accuracy:  90.19672403686403  %\n",
            "---\n",
            "Epoch 8\n",
            "Train Accuracy:  91.02303699552404  %\n",
            "Test Accuracy:  90.31126291801024  %\n",
            "---\n",
            "Epoch 9\n",
            "Train Accuracy:  91.11566139242862  %\n",
            "Test Accuracy:  90.37484765033363  %\n",
            "---\n",
            "Epoch 10\n",
            "Train Accuracy:  91.18994169235727  %\n",
            "Test Accuracy:  90.40064858586044  %\n",
            "---\n",
            "Epoch 11\n",
            "Train Accuracy:  91.27591967731404  %\n",
            "Test Accuracy:  90.35077397408895  %\n",
            "---\n",
            "Epoch 12\n",
            "Train Accuracy:  91.34339405140814  %\n",
            "Test Accuracy:  90.30392206606119  %\n",
            "---\n",
            "Epoch 13\n",
            "Train Accuracy:  91.38779208321945  %\n",
            "Test Accuracy:  90.3042459271766  %\n",
            "---\n",
            "Epoch 14\n",
            "Train Accuracy:  91.44266486026052  %\n",
            "Test Accuracy:  90.45840381810665  %\n",
            "---\n",
            "Epoch 15\n",
            "Train Accuracy:  91.4820647902871  %\n",
            "Test Accuracy:  90.41068828043781  %\n",
            "---\n",
            "Epoch 16\n",
            "Train Accuracy:  91.5114153454486  %\n",
            "Test Accuracy:  90.46757988304296  %\n",
            "---\n",
            "Epoch 17\n",
            "Train Accuracy:  91.54363715057154  %\n",
            "Test Accuracy:  90.36383637241005  %\n",
            "---\n",
            "Epoch 18\n",
            "Train Accuracy:  91.59175717307363  %\n",
            "Test Accuracy:  90.33781952947298  %\n",
            "---\n",
            "Epoch 19\n",
            "Train Accuracy:  91.62929610775483  %\n",
            "Test Accuracy:  90.41662573422013  %\n",
            "---\n",
            "Epoch 20\n",
            "Train Accuracy:  91.65885934809864  %\n",
            "Test Accuracy:  90.3874782338342  %\n",
            "---\n",
            "Epoch 21\n",
            "Train Accuracy:  91.67438536640871  %\n",
            "Test Accuracy:  90.52242036525057  %\n",
            "---\n",
            "Epoch 22\n",
            "Train Accuracy:  91.70086467160876  %\n",
            "Test Accuracy:  90.33997860357564  %\n",
            "---\n",
            "Epoch 23\n",
            "Train Accuracy:  91.71389163902646  %\n",
            "Test Accuracy:  90.5222044578403  %\n",
            "---\n",
            "Epoch 24\n",
            "Train Accuracy:  91.72601469441925  %\n",
            "Test Accuracy:  90.4191086694382  %\n",
            "---\n",
            "Epoch 25\n",
            "Train Accuracy:  91.78498166122016  %\n",
            "Test Accuracy:  90.3607057149612  %\n",
            "---\n",
            "Epoch 26\n",
            "Train Accuracy:  91.79471200831173  %\n",
            "Test Accuracy:  90.28956422327849  %\n",
            "---\n",
            "Epoch 27\n",
            "Train Accuracy:  91.79263832778402  %\n",
            "Test Accuracy:  90.41101214155321  %\n",
            "---\n",
            "Epoch 28\n",
            "Train Accuracy:  91.83171923003711  %\n",
            "Test Accuracy:  90.39687020618078  %\n",
            "---\n",
            "Epoch 29\n",
            "Train Accuracy:  91.82358402181299  %\n",
            "Test Accuracy:  90.39384750243705  %\n",
            "---\n",
            "Epoch 30\n",
            "Train Accuracy:  91.84176860490219  %\n",
            "Test Accuracy:  90.43648921596463  %\n",
            "---\n",
            "Epoch 31\n",
            "Train Accuracy:  91.86340932220422  %\n",
            "Test Accuracy:  90.43778466042622  %\n",
            "---\n",
            "Epoch 32\n",
            "Train Accuracy:  91.89089888202034  %\n",
            "Test Accuracy:  90.52932940237909  %\n",
            "---\n",
            "Epoch 33\n",
            "Train Accuracy:  91.9173250159248  %\n",
            "Test Accuracy:  90.58589714386882  %\n",
            "---\n",
            "Epoch 34\n",
            "Train Accuracy:  91.91440059466777  %\n",
            "Test Accuracy:  90.33123435345986  %\n",
            "---\n",
            "Epoch 35\n",
            "Train Accuracy:  91.92737439078988  %\n",
            "Test Accuracy:  90.27660977866252  %\n",
            "---\n",
            "Epoch 36\n",
            "Train Accuracy:  91.9176440436983  %\n",
            "Test Accuracy:  90.38488734491101  %\n",
            "---\n",
            "Epoch 37\n",
            "Train Accuracy:  91.93742376565496  %\n",
            "Test Accuracy:  90.52738623568669  %\n",
            "---\n",
            "Epoch 38\n",
            "Train Accuracy:  91.9841613344719  %\n",
            "Test Accuracy:  90.4350858177979  %\n",
            "---\n",
            "Epoch 39\n",
            "Train Accuracy:  91.94295358039552  %\n",
            "Test Accuracy:  90.38639869678288  %\n",
            "---\n",
            "Epoch 40\n",
            "Train Accuracy:  91.95337515432969  %\n",
            "Test Accuracy:  90.27153595452127  %\n",
            "---\n",
            "Epoch 41\n",
            "Train Accuracy:  91.99187117233136  %\n",
            "Test Accuracy:  90.50450005019847  %\n",
            "---\n",
            "Epoch 42\n",
            "Train Accuracy:  92.01085332485428  %\n",
            "Test Accuracy:  90.44696072536253  %\n",
            "---\n",
            "Epoch 43\n",
            "Train Accuracy:  92.0201583015812  %\n",
            "Test Accuracy:  90.56106779168822  %\n",
            "---\n",
            "Epoch 44\n",
            "Train Accuracy:  92.01452214424947  %\n",
            "Test Accuracy:  90.47740367021007  %\n",
            "---\n",
            "Epoch 45\n",
            "Train Accuracy:  92.00075077869363  %\n",
            "Test Accuracy:  90.47567641092793  %\n",
            "---\n",
            "Epoch 46\n",
            "Train Accuracy:  92.04440441236679  %\n",
            "Test Accuracy:  90.57251088443232  %\n",
            "---\n",
            "Epoch 47\n",
            "Train Accuracy:  92.03355746806798  %\n",
            "Test Accuracy:  90.52835781903289  %\n",
            "---\n",
            "Epoch 48\n",
            "Train Accuracy:  92.06141922695316  %\n",
            "Test Accuracy:  90.5672211528808  %\n",
            "---\n",
            "Epoch 49\n",
            "Train Accuracy:  92.04222438924792  %\n",
            "Test Accuracy:  90.52080105967357  %\n",
            "---\n",
            "Epoch 50\n",
            "Train Accuracy:  92.01813779234908  %\n",
            "Test Accuracy:  90.44285848456748  %\n",
            "---\n"
          ]
        },
        {
          "output_type": "display_data",
          "data": {
            "image/png": "[encoded data removed]",
            "text/plain": [
              "<Figure size 432x288 with 1 Axes>"
            ]
          },
          "metadata": {
            "needs_background": "light"
          }
        }
      ]
    },
    {
      "cell_type": "code",
      "metadata": {
        "id": "gKGwPPsw0FXN"
      },
      "source": [
        "from google.colab import files\n",
        "import helper"
      ],
      "execution_count": 41,
      "outputs": []
    },
    {
      "cell_type": "code",
      "metadata": {
        "id": "LrscRY2cAeVo",
        "colab": {
          "base_uri": "https://localhost:8080/",
          "height": 17
        },
        "outputId": "7c1b978b-6605-45f8-bccb-b4f026ecf22d"
      },
      "source": [
        "# save the model\n",
        "FILE = 'doodle_model.pth'\n",
        "torch.save(cnn_model.state_dict(), FILE)\n",
        "files.download('doodle_model.pth')"
      ],
      "execution_count": 50,
      "outputs": [
        {
          "output_type": "display_data",
          "data": {
            "application/javascript": [
              "\n",
              "    async function download(id, filename, size) {\n",
              "      if (!google.colab.kernel.accessAllowed) {\n",
              "        return;\n",
              "      }\n",
              "      const div = document.createElement('div');\n",
              "      const label = document.createElement('label');\n",
              "      label.textContent = `Downloading \"${filename}\": `;\n",
              "      div.appendChild(label);\n",
              "      const progress = document.createElement('progress');\n",
              "      progress.max = size;\n",
              "      div.appendChild(progress);\n",
              "      document.body.appendChild(div);\n",
              "\n",
              "      const buffers = [];\n",
              "      let downloaded = 0;\n",
              "\n",
              "      const channel = await google.colab.kernel.comms.open(id);\n",
              "      // Send a message to notify the kernel that we're ready.\n",
              "      channel.send({})\n",
              "\n",
              "      for await (const message of channel.messages) {\n",
              "        // Send a message to notify the kernel that we're ready.\n",
              "        channel.send({})\n",
              "        if (message.buffers) {\n",
              "          for (const buffer of message.buffers) {\n",
              "            buffers.push(buffer);\n",
              "            downloaded += buffer.byteLength;\n",
              "            progress.value = downloaded;\n",
              "          }\n",
              "        }\n",
              "      }\n",
              "      const blob = new Blob(buffers, {type: 'application/binary'});\n",
              "      const a = document.createElement('a');\n",
              "      a.href = window.URL.createObjectURL(blob);\n",
              "      a.download = filename;\n",
              "      div.appendChild(a);\n",
              "      a.click();\n",
              "      div.remove();\n",
              "    }\n",
              "  "
            ],
            "text/plain": [
              "<IPython.core.display.Javascript object>"
            ]
          },
          "metadata": {}
        },
        {
          "output_type": "display_data",
          "data": {
            "application/javascript": [
              "download(\"download_48d95fb5-bc8f-4ab0-9a20-ac8a142f5889\", \"doodle_model.pth\", 421121)"
            ],
            "text/plain": [
              "<IPython.core.display.Javascript object>"
            ]
          },
          "metadata": {}
        }
      ]
    },
    {
      "cell_type": "code",
      "metadata": {
        "colab": {
          "base_uri": "https://localhost:8080/"
        },
        "id": "PPaF3gPzB85Y",
        "outputId": "48366737-13c6-4a38-a49a-12f194d5c991"
      },
      "source": [
        "loaded_model = ConvNetwork()\n",
        "loaded_model.load_state_dict(torch.load(FILE))\n",
        "loaded_model.eval()"
      ],
      "execution_count": 51,
      "outputs": [
        {
          "output_type": "execute_result",
          "data": {
            "text/plain": [
              "ConvNetwork(\n",
              "  (conv1): Conv2d(1, 8, kernel_size=(5, 5), stride=(1, 1))\n",
              "  (pool): MaxPool2d(kernel_size=2, stride=2, padding=0, dilation=1, ceil_mode=False)\n",
              "  (conv2): Conv2d(8, 20, kernel_size=(5, 5), stride=(1, 1))\n",
              "  (fc1): Linear(in_features=320, out_features=200, bias=True)\n",
              "  (fc2): Linear(in_features=200, out_features=120, bias=True)\n",
              "  (fc3): Linear(in_features=120, out_features=84, bias=True)\n",
              "  (fc4): Linear(in_features=84, out_features=20, bias=True)\n",
              ")"
            ]
          },
          "metadata": {},
          "execution_count": 51
        }
      ]
    },
    {
      "cell_type": "code",
      "metadata": {
        "colab": {
          "base_uri": "https://localhost:8080/",
          "height": 282
        },
        "id": "FI9kwnwmrjSx",
        "outputId": "69a0b3c2-5df9-4476-8452-f2bd643e65c9"
      },
      "source": [
        "# test your model's accuracy with predicted results\n",
        "sample = next(iter(dataloader_test))\n",
        "images, labels = sample\n",
        "\n",
        "n = rd.randrange(0,len(images))\n",
        "img = images[n]\n",
        "\n",
        "plt.imshow(img.reshape(28,28),cmap = 'gray')\n",
        "img = img.to(device)\n",
        "img = img.reshape(1,1,28,28)\n",
        "out = cnn_model(img.float())\n",
        "_, predicted = torch.max(out, 1)\n",
        "print(\"Looks like : \",classes[predicted])"
      ],
      "execution_count": 55,
      "outputs": [
        {
          "output_type": "stream",
          "name": "stdout",
          "text": [
            "Looks like :  snake\n"
          ]
        },
        {
          "output_type": "display_data",
          "data": {
            "image/png": "[encoded data removed]",
            "text/plain": [
              "<Figure size 432x288 with 1 Axes>"
            ]
          },
          "metadata": {
            "needs_background": "light"
          }
        }
      ]
    }
  ]
}